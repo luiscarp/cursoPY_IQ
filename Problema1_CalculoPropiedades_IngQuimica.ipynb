{
 "cells": [
  {
   "cell_type": "markdown",
   "id": "7beb310d",
   "metadata": {},
   "source": [
    "\n",
    "# 🧪 Problema 1 — Cálculo de propiedades básicas de una muestra\n",
    "### Taller práctico: Fundamentos de Python para Ingeniería Química\n",
    "\n",
    "**Duración estimada:** 20 minutos  \n",
    "**Objetivo:** aprender a usar **variables**, **tipos de datos**, y **operadores aritméticos** para resolver un problema real de laboratorio.\n"
   ]
  },
  {
   "cell_type": "markdown",
   "id": "acd17533",
   "metadata": {},
   "source": [
    "\n",
    "## 1️⃣ Contexto\n",
    "En el laboratorio de operaciones unitarias, se recibe una muestra líquida cuyo volumen fue medido con una probeta y su masa con una balanza analítica.  \n",
    "El objetivo es **calcular su densidad y la temperatura de proceso**.\n",
    "\n",
    "Datos registrados:\n",
    "- Masa medida: **84.5 g**\n",
    "- Volumen: **0.1 L**\n",
    "- Temperatura del laboratorio: **298.15 K**\n"
   ]
  },
  {
   "cell_type": "markdown",
   "id": "d309c75e",
   "metadata": {},
   "source": [
    "\n",
    "## 3️⃣ Conversión de unidades y cálculo de densidad  \n",
    "Convierte los datos a unidades del **SI**:  \n",
    "- 1 L = 0.001 m³  \n",
    "- 1 g = 0.001 kg  \n",
    "\n",
    "Calcula la densidad:  \n",
    "$$  \\rho = \\frac{m}{V}  $$\n"
   ]
  },
  {
   "cell_type": "markdown",
   "id": "08ddf812",
   "metadata": {},
   "source": [
    "\n",
    "## 4️⃣ Conversión de temperatura (K → °C)\n",
    "Utiliza la relación:  \n",
    "\\[ T(°C) = T(K) - 273.15 \\]\n"
   ]
  },
  {
   "cell_type": "markdown",
   "id": "2e7238b9",
   "metadata": {},
   "source": [
    "\n",
    "## 5️⃣ Ejercicio de reflexión (5 min)\n",
    "1. ¿Qué ocurre si duplicas el volumen manteniendo la misma masa? (modifica el código y observa el resultado).  \n",
    "2. Cambia la temperatura a **310 K** y vuelve a calcular °C.\n"
   ]
  },
  {
   "cell_type": "markdown",
   "id": "e6430795",
   "metadata": {},
   "source": []
  },
  {
   "cell_type": "markdown",
   "id": "036ae99a",
   "metadata": {},
   "source": []
  },
  {
   "cell_type": "markdown",
   "id": "10cd58c1",
   "metadata": {},
   "source": [
    "\n",
    "\n",
    "Simula tres muestras distintas cambiando los valores de `masa_g` y `volumen_L`.  \n",
    "Crea una nueva variable `densidades` que guarde las tres densidades calculadas en una **lista**.\n",
    "\n",
    "Ejemplo esperado:\n",
    "```python\n",
    "densidades = [1000.0, 950.0, 1025.0]\n",
    "```\n"
   ]
  },
  {
   "cell_type": "markdown",
   "id": "0751528e",
   "metadata": {},
   "source": [
    "## 💡 Ejemplo: Cálculo del número de Reynolds en una tubería\n",
    "\n",
    "**Situación:**  \n",
    "Por una tubería de acero de **5 cm de diámetro interno**, circula **agua a 25 °C** con una velocidad promedio de **1.5 m/s**.  \n",
    "Se desea determinar si el flujo es **laminar** o **turbulento**.\n",
    "\n",
    "**Datos:**\n",
    "- Densidad del agua \\( \\rho = 997\\ \\text{kg/m}^3 \\)\n",
    "- Viscosidad dinámica \\( \\mu = 1.0\\times10^{-3}\\ \\text{Pa·s} \\)\n",
    "- Diámetro \\( D = 0.05\\ \\text{m} \\)\n",
    "- Velocidad \\( v = 1.5\\ \\text{m/s} \\)\n",
    "\n",
    "**Fórmula:**\n",
    "\n",
    "\n",
    "El número de Reynolds se define como \\( Re = \\frac{\\rho v D}{\\mu} \\).\n",
    "\n",
    "$$ Re = \\frac{\\rho v D}{\\mu} $$\n",
    "\n",
    "calcule el numero de reynolds en diferentes velocidades\n",
    "\n",
    "Crear funcion que defina cuando hay flujo turbulento o flujo laminar\n",
    "\n",
    "\n",
    "## 💨 Criterios del número de Reynolds\n",
    "\n",
    "El **número de Reynolds (Re)** permite determinar el tipo de flujo de un fluido dentro de una tubería o canal.  \n",
    "Depende de la relación entre las fuerzas inerciales y las viscosas:\n",
    "\n",
    "\\[\n",
    "\\mathrm{Re} = \\frac{\\rho\\,v\\,D}{\\mu}\n",
    "\\]\n",
    "\n",
    "donde:\n",
    "\n",
    "- \\( \\rho \\): densidad del fluido (kg/m³)  \n",
    "- \\( v \\): velocidad promedio del fluido (m/s)  \n",
    "- \\( D \\): diámetro hidráulico o interno de la tubería (m)  \n",
    "- \\( \\mu \\): viscosidad dinámica del fluido (Pa·s)\n",
    "\n",
    "---\n",
    "\n",
    "### 🔹 **Clasificación del flujo según Re**\n",
    "\n",
    "| Régimen de flujo | Condición sobre Re | Características principales |\n",
    "|------------------|--------------------|------------------------------|\n",
    "| **Laminar** | \\( \\mathrm{Re} < 2100 \\) | El flujo es ordenado, en capas. Predominan las fuerzas viscosas. |\n",
    "| **Transicional** | \\( 2100 \\le \\mathrm{Re} < 4000 \\) | Se mezcla el comportamiento laminar y turbulento; el flujo es inestable. |\n",
    "| **Turbulento** | \\( \\mathrm{Re} \\ge 4000 \\) | El flujo es caótico, con remolinos y mezcla intensa. Predominan las fuerzas inerciales. |\n",
    "\n",
    "---\n",
    "\n",
    "### 💭 **Interpretación práctica**\n",
    "- A menor Re → mayor influencia de la viscosidad (típico en fluidos densos o flujos lentos).  \n",
    "- A mayor Re → el flujo se vuelve turbulento, favoreciendo la mezcla pero también aumentando las pérdidas de energía por fricción.\n",
    "\n",
    "---\n"
   ]
  },
  {
   "cell_type": "code",
   "execution_count": null,
   "id": "88ad893b",
   "metadata": {
    "vscode": {
     "languageId": "plaintext"
    }
   },
   "outputs": [],
   "source": []
  },
  {
   "cell_type": "markdown",
   "id": "a1977059",
   "metadata": {},
   "source": [
    "\n",
    "## ✅ Conclusión\n",
    "Con este problema aprendiste a:  \n",
    "- Usar variables y tipos numéricos (`float`).  \n",
    "- Aplicar operadores aritméticos básicos.  \n",
    "- Mostrar resultados con `print()`.  \n",
    "- Interpretar magnitudes físicas (masa, volumen, densidad, temperatura).  \n",
    "- Realizar funciones en python .  \n",
    "\n",
    "Siguiente paso: automatizar comparaciones con **estructuras de decisión (`if/elif/else`)**.\n"
   ]
  }
 ],
 "metadata": {
  "language_info": {
   "name": "python"
  }
 },
 "nbformat": 4,
 "nbformat_minor": 5
}
