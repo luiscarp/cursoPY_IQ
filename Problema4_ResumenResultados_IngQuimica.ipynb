{
 "cells": [
  {
   "cell_type": "markdown",
   "id": "2a627e88",
   "metadata": {},
   "source": [
    "\n",
    "# 🧮 Problema 4 — Resumen de resultados (25 min)  \n",
    "### Taller práctico: Fundamentos de Python para Ingeniería Química\n",
    "\n",
    "**Objetivo:** usar **diccionarios** y funciones básicas (`sum()`, `len()`, `max()`, `min()`) para generar un **resumen estadístico** de los datos obtenidos.\n"
   ]
  },
  {
   "cell_type": "markdown",
   "id": "314b6e75",
   "metadata": {},
   "source": [
    "\n",
    "## 1️⃣ Contexto  \n",
    "Después de analizar los registros de temperatura del reactor (del Problema 3), se desea elaborar un **resumen estadístico del turno** con indicadores clave:\n",
    "\n",
    "- Temperatura promedio.  \n",
    "- Temperatura máxima.  \n",
    "- Temperatura mínima.  \n",
    "- Porcentaje de mediciones fuera de rango.  \n",
    "\n",
    "Los resultados deben almacenarse en un **diccionario** llamado `resumen_turno`.\n"
   ]
  },
  {
   "cell_type": "markdown",
   "id": "624909c6",
   "metadata": {},
   "source": [
    "\n",
    "## 2️⃣ Datos disponibles  \n",
    "Usaremos la lista `temperaturas` del problema anterior. Si no la tienes, créala nuevamente.\n"
   ]
  },
  {
   "cell_type": "code",
   "execution_count": null,
   "id": "1ebd3282",
   "metadata": {},
   "outputs": [],
   "source": [
    "\n",
    "temperaturas = [302.5, 308.1, 312.0, 369.8, 372.4, 365.2, 359.9, 298.7, 305.3, 380.6]\n",
    "T_min = 300.0\n",
    "T_max = 370.0\n"
   ]
  },
  {
   "cell_type": "markdown",
   "id": "941a7d07",
   "metadata": {},
   "source": [
    "\n",
    "## 3️⃣ Cálculo de estadísticas básicas  \n",
    "Usa funciones integradas de Python:\n",
    "- `len()` para número de datos.  \n",
    "- `sum()` para la suma total.  \n",
    "- `max()` y `min()` para extremos.  \n",
    "\n",
    "Luego calcula el promedio:  \n",
    "\\[ \\bar{T} = \\frac{\\text{suma de T}}{\\text{número de datos}} \\]\n"
   ]
  },
  {
   "cell_type": "code",
   "execution_count": null,
   "id": "baee530f",
   "metadata": {},
   "outputs": [],
   "source": [
    "\n",
    "n = len(temperaturas)\n",
    "suma_T = sum(temperaturas)\n",
    "promedio = suma_T / n\n",
    "T_max_medida = max(temperaturas)\n",
    "T_min_medida = min(temperaturas)\n",
    "\n",
    "print(\"Número de mediciones:\", n)\n",
    "print(\"Temperatura promedio:\", promedio)\n",
    "print(\"Temperatura máxima:\", T_max_medida)\n",
    "print(\"Temperatura mínima:\", T_min_medida)\n"
   ]
  },
  {
   "cell_type": "markdown",
   "id": "e45c163c",
   "metadata": {},
   "source": [
    "\n",
    "## 4️⃣ Identificar valores fuera de rango  \n",
    "Usa un bucle `for` o una lista por comprensión para contar los valores que superan los límites del proceso.\n"
   ]
  },
  {
   "cell_type": "code",
   "execution_count": null,
   "id": "a272fe2f",
   "metadata": {},
   "outputs": [],
   "source": [
    "\n",
    "fuera_rango = [T for T in temperaturas if (T < T_min) or (T > T_max)]\n",
    "n_fuera = len(fuera_rango)\n",
    "porc_fuera = (n_fuera / n) * 100\n",
    "\n",
    "print(f\"Fuera de rango: {n_fuera} mediciones ({porc_fuera:.1f}%)\")\n",
    "print(\"Valores fuera de rango:\", fuera_rango)\n"
   ]
  },
  {
   "cell_type": "markdown",
   "id": "c8b293a0",
   "metadata": {},
   "source": [
    "\n",
    "## 5️⃣ Generar el diccionario `resumen_turno`  \n",
    "Agrupa todas las estadísticas calculadas en un solo contenedor de datos (diccionario).\n"
   ]
  },
  {
   "cell_type": "code",
   "execution_count": null,
   "id": "9131758c",
   "metadata": {},
   "outputs": [],
   "source": [
    "\n",
    "resumen_turno = {\n",
    "    \"total_mediciones\": n,\n",
    "    \"T_promedio\": promedio,\n",
    "    \"T_maxima\": T_max_medida,\n",
    "    \"T_minima\": T_min_medida,\n",
    "    \"fuera_rango\": n_fuera,\n",
    "    \"porcentaje_fuera\": porc_fuera,\n",
    "    \"limites\": (T_min, T_max)\n",
    "}\n",
    "\n",
    "resumen_turno\n"
   ]
  },
  {
   "cell_type": "markdown",
   "id": "0d0b33b3",
   "metadata": {},
   "source": [
    "\n",
    "## 6️⃣ Mostrar el resumen formateado\n",
    "Imprime un reporte limpio con los valores clave.\n"
   ]
  },
  {
   "cell_type": "code",
   "execution_count": null,
   "id": "1f9d6d0c",
   "metadata": {},
   "outputs": [],
   "source": [
    "\n",
    "print(\"=== RESUMEN DEL TURNO ===\")\n",
    "print(f\"Total de mediciones: {resumen_turno['total_mediciones']}\")\n",
    "print(f\"Temperatura promedio: {resumen_turno['T_promedio']:.2f} K\")\n",
    "print(f\"Máxima: {resumen_turno['T_maxima']} K | Mínima: {resumen_turno['T_minima']} K\")\n",
    "print(f\"Fuera de rango: {resumen_turno['fuera_rango']} ({resumen_turno['porcentaje_fuera']:.1f}%)\")\n",
    "print(f\"Límites de operación: {resumen_turno['limites'][0]}–{resumen_turno['limites'][1]} K\")\n"
   ]
  },
  {
   "cell_type": "markdown",
   "id": "4035a554",
   "metadata": {},
   "source": [
    "\n",
    "## 7️⃣ Práctica guiada (10 min)\n",
    "1. Cambia los valores de `temperaturas` y vuelve a ejecutar todo.  \n",
    "2. Agrega al diccionario una nueva clave `\"media_celsius\"` que convierta la temperatura promedio a °C.  \n",
    "3. Crea otro diccionario `resumen_comparativo` que contenga los promedios de dos turnos diferentes y calcule la diferencia en °C.\n",
    "\n",
    "Ejemplo:\n",
    "```python\n",
    "resumen_comparativo = {\n",
    "    \"Turno A (°C)\": 35.2,\n",
    "    \"Turno B (°C)\": 37.1,\n",
    "    \"Diferencia (°C)\": 37.1 - 35.2\n",
    "}\n",
    "```\n"
   ]
  },
  {
   "cell_type": "markdown",
   "id": "9c36a184",
   "metadata": {},
   "source": [
    "\n",
    "## ✅ Conclusión  \n",
    "- Usaste **funciones integradas** para obtener estadísticas básicas.  \n",
    "- Aprendiste a **agrupar resultados en un diccionario** con claves y valores significativos.  \n",
    "- Creaste un **resumen legible** para el reporte del turno.\n",
    "\n",
    "Con esto, se completa el conjunto de habilidades básicas de Python: variables, estructuras, decisiones, bucles, listas y diccionarios.\n"
   ]
  }
 ],
 "metadata": {},
 "nbformat": 4,
 "nbformat_minor": 5
}