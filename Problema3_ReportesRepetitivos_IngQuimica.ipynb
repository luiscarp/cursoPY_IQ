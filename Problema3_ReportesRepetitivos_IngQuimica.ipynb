{
 "cells": [
  {
   "cell_type": "markdown",
   "id": "c12e0a27",
   "metadata": {},
   "source": [
    "\n",
    "# 📈 Problema 3 — Generar reportes repetitivos (25 min)  \n",
    "### Taller práctico: Fundamentos de Python para Ingeniería Química\n",
    "\n",
    "**Objetivo:** usar **listas** y **bucles `for`** para revisar una serie de temperaturas de proceso y generar un **reporte** con los puntos fuera de rango.\n"
   ]
  },
  {
   "cell_type": "markdown",
   "id": "d6ae1e3c",
   "metadata": {},
   "source": [
    "\n",
    "## 1️⃣ Contexto\n",
    "En una corrida de un reactor continuo, se registraron 10 mediciones de **temperatura (K)** tomadas cada minuto.  \n",
    "El rango de operación segura es **300–370 K**. Se debe **identificar qué mediciones están fuera de rango** y elaborar un reporte simple para el turno.\n"
   ]
  },
  {
   "cell_type": "markdown",
   "id": "b4c8b6fc",
   "metadata": {},
   "source": [
    "\n",
    "## 2️⃣ Datos y parámetros\n",
    "Usaremos una **lista** para almacenar las temperaturas y **variables** para los límites.\n"
   ]
  },
  {
   "cell_type": "code",
   "execution_count": null,
   "id": "e15ea6ab",
   "metadata": {},
   "outputs": [],
   "source": [
    "\n",
    "# Temperaturas medidas (K) — simuladas para el ejemplo\n",
    "temperaturas = [302.5, 308.1, 312.0, 369.8, 372.4, 365.2, 359.9, 298.7, 305.3, 380.6]\n",
    "\n",
    "# Límites de operación (K)\n",
    "T_min = 300.0\n",
    "T_max = 370.0\n"
   ]
  },
  {
   "cell_type": "markdown",
   "id": "565c0e26",
   "metadata": {},
   "source": [
    "\n",
    "## 3️⃣ Recorrer la lista con `for` y detectar fuera de rango\n",
    "- Usaremos `enumerate()` para obtener **índice** y **valor** al iterar.  \n",
    "- Guardaremos resultados en **listas** nuevas para el reporte.\n"
   ]
  },
  {
   "cell_type": "code",
   "execution_count": null,
   "id": "5c84fd0b",
   "metadata": {},
   "outputs": [],
   "source": [
    "\n",
    "indices_fuera = []      # índices de mediciones fuera de rango\n",
    "valores_fuera = []      # valores correspondientes\n",
    "clasificacion = []      # etiqueta por cada punto: \"OK\" o \"FUERA\"\n",
    "\n",
    "for i, T in enumerate(temperaturas):\n",
    "    if (T < T_min) or (T > T_max):\n",
    "        indices_fuera.append(i)\n",
    "        valores_fuera.append(T)\n",
    "        clasificacion.append(\"FUERA\")\n",
    "    else:\n",
    "        clasificacion.append(\"OK\")\n",
    "\n",
    "indices_fuera, valores_fuera, clasificacion\n"
   ]
  },
  {
   "cell_type": "markdown",
   "id": "b61e5f91",
   "metadata": {},
   "source": [
    "\n",
    "## 4️⃣ Armar un reporte legible\n",
    "Calcula totales y porcentajes, y muestra una tabla simple (texto) con índice, valor y estado.\n"
   ]
  },
  {
   "cell_type": "code",
   "execution_count": null,
   "id": "9c05f804",
   "metadata": {},
   "outputs": [],
   "source": [
    "\n",
    "total = len(temperaturas)\n",
    "n_fuera = len(indices_fuera)\n",
    "porc_fuera = (n_fuera / total) * 100\n",
    "\n",
    "print(\"=== REPORTE DE TEMPERATURAS ===\")\n",
    "print(f\"Total de mediciones: {total}\")\n",
    "print(f\"Fuera de rango: {n_fuera} ({porc_fuera:.1f}%)\")\n",
    "print(f\"Rango permitido: {T_min}–{T_max} K\\n\")\n",
    "\n",
    "print(\"Idx |  T (K)  | Estado\")\n",
    "print(\"-----------------------\")\n",
    "for i, T in enumerate(temperaturas):\n",
    "    estado = clasificacion[i]\n",
    "    print(f\"{i:>3} | {T:7.1f} | {estado}\")\n"
   ]
  },
  {
   "cell_type": "markdown",
   "id": "cf7e78d6",
   "metadata": {},
   "source": [
    "\n",
    "## 5️⃣ Resumen empaquetado (opcional, útil para el siguiente problema)\n",
    "Crea un **diccionario** con los principales indicadores del turno.  \n",
    "> Aún estamos usando listas y `for`; el diccionario solo guarda los resultados.\n"
   ]
  },
  {
   "cell_type": "code",
   "execution_count": null,
   "id": "8dd2fd76",
   "metadata": {},
   "outputs": [],
   "source": [
    "\n",
    "reporte = {\n",
    "    \"total_mediciones\": total,\n",
    "    \"fuera_rango\": n_fuera,\n",
    "    \"porcentaje_fuera\": porc_fuera,\n",
    "    \"indices_fuera\": indices_fuera,\n",
    "    \"valores_fuera\": valores_fuera,\n",
    "    \"limites\": [T_min, T_max]\n",
    "}\n",
    "reporte\n"
   ]
  },
  {
   "cell_type": "markdown",
   "id": "a70a12a2",
   "metadata": {},
   "source": [
    "\n",
    "## 6️⃣ Práctica guiada (10 min)\n",
    "1. Cambia el rango a **305–365 K** y vuelve a ejecutar el análisis.  \n",
    "2. Modifica dos valores de `temperaturas` para simular una falla y observa el reporte.  \n",
    "3. Agrega una **contabilización de \"OK\" vs \"FUERA\"** con un `for` separado y variables contadoras.  \n",
    "4. Crea una lista `alertas` que guarde texto solo de las mediciones fuera de rango, por ejemplo:  \n",
    "   `[\"Alerta: idx=4, T=372.4 K\", \"Alerta: idx=7, T=298.7 K\", ...]`\n"
   ]
  },
  {
   "cell_type": "markdown",
   "id": "16b821b0",
   "metadata": {},
   "source": [
    "\n",
    "## ✅ Conclusión\n",
    "- Aprendiste a **usar listas** para almacenar mediciones y a **recorrerlas con `for`**.  \n",
    "- Aplicaste **condiciones** por punto (`if`) para etiquetar valores.  \n",
    "- Generaste un **reporte** con totales, porcentajes e índices críticos.\n",
    "\n",
    "Siguiente paso: combinar estos resultados con **diccionarios** y preparar un resumen general de turno.\n"
   ]
  }
 ],
 "metadata": {},
 "nbformat": 4,
 "nbformat_minor": 5
}