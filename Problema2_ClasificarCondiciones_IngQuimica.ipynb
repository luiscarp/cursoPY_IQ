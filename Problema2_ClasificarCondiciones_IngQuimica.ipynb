{
 "cells": [
  {
   "cell_type": "markdown",
   "id": "cfdf2a29",
   "metadata": {},
   "source": [
    "\n",
    "# ⚙️ Problema 2 — Clasificar condiciones de operación  \n",
    "### Taller práctico: Fundamentos de Python para Ingeniería Química\n",
    "\n",
    "**Duración estimada:** 20 minutos  \n",
    "**Objetivo:** aprender a usar **estructuras de decisión (`if`, `elif`, `else`)** para evaluar condiciones de presión y temperatura de un proceso.\n"
   ]
  },
  {
   "cell_type": "markdown",
   "id": "4589bde6",
   "metadata": {},
   "source": [
    "\n",
    "## 1️⃣ Contexto\n",
    "Durante una prueba en un reactor, se monitorean las variables de **presión (kPa)** y **temperatura (K)**.  \n",
    "El rango de operación segura del proceso es:\n",
    "\n",
    "- Presión: entre **90 y 120 kPa**\n",
    "- Temperatura: entre **300 y 370 K**\n",
    "\n",
    "El sistema debe generar una alerta si alguna de las variables está **fuera de rango**.\n"
   ]
  },
  {
   "cell_type": "markdown",
   "id": "39f4f201",
   "metadata": {},
   "source": [
    "\n",
    "## 2️⃣ Definir variables y límites\n",
    "Define las variables de operación `P` y `T`, junto con los límites permitidos (`P_min`, `P_max`, `T_min`, `T_max`).\n"
   ]
  },
  {
   "cell_type": "markdown",
   "id": "678d4551",
   "metadata": {},
   "source": [
    "\n",
    "## 3️⃣ Evaluar condiciones con `if`, `elif`, `else`\n",
    "Primero, verifica si **la presión está fuera de rango** y genera un mensaje apropiado.\n"
   ]
  },
  {
   "cell_type": "markdown",
   "id": "285f4827",
   "metadata": {},
   "source": [
    "\n",
    "Ahora integra la temperatura al análisis para emitir un diagnóstico completo del proceso.\n"
   ]
  },
  {
   "cell_type": "markdown",
   "id": "aa692b60",
   "metadata": {},
   "source": [
    "\n",
    "## 5️⃣ Versión en función  \n",
    "Encapsula la lógica en una función `verificar_operacion(P, T)` que retorne un mensaje.  \n",
    "Esto permitirá reutilizarla para distintos escenarios.\n"
   ]
  },
  {
   "cell_type": "code",
   "execution_count": null,
   "id": "b84b9dd7",
   "metadata": {},
   "outputs": [],
   "source": [
    "\n",
    "def verificar_operacion(P, T):\n",
    "    P_min, P_max = 90.0, 120.0\n",
    "    T_min, T_max = 300.0, 370.0\n",
    "\n",
    "    if (P_min <= P <= P_max) and (T_min <= T <= T_max):\n",
    "        return \"✅ Operación segura.\"\n",
    "    elif (P < P_min) or (P > P_max):\n",
    "        return \"⚠️ Presión fuera de rango.\"\n",
    "    elif (T < T_min) or (T > T_max):\n",
    "        return \"⚠️ Temperatura fuera de rango.\"\n",
    "    else:\n",
    "        return \"❌ Error en lectura de datos.\"\n",
    "\n",
    "# Pruebas\n",
    "casos = [(100, 310), (85, 340), (110, 380), (95, 295)]\n",
    "for P, T in casos:\n",
    "    print(f\"P={P} kPa, T={T} K → {verificar_operacion(P, T)}\")\n"
   ]
  },
  {
   "cell_type": "markdown",
   "id": "e47c14a7",
   "metadata": {},
   "source": [
    "\n",
    "## 🧭 Desafío adicional (5 min)\n",
    "1. Agrega un contador de alertas: crea una variable `n_alertas` que aumente en 1 cada vez que haya un valor fuera de rango.  \n",
    "2. Agrega una variable booleana `operacion_segura = True/False` para marcar si el sistema está estable.  \n",
    "3. Usa `print()` para mostrar el resumen general del proceso.\n",
    "\n",
    "---\n",
    "## ✅ Conclusión\n",
    "Con este problema aprendiste a:\n",
    "- Usar **estructuras de decisión** (`if`, `elif`, `else`).\n",
    "- Aplicar **operadores lógicos** (`and`, `or`) en condiciones múltiples.\n",
    "- Simular validaciones de operación seguras típicas en procesos químicos.\n"
   ]
  }
 ],
 "metadata": {
  "language_info": {
   "name": "python"
  }
 },
 "nbformat": 4,
 "nbformat_minor": 5
}
